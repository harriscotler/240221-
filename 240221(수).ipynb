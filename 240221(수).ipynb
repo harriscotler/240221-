{
  "nbformat": 4,
  "nbformat_minor": 0,
  "metadata": {
    "colab": {
      "provenance": [],
      "authorship_tag": "ABX9TyOZ0IS0mN7IrQYQdV6oyab6",
      "include_colab_link": true
    },
    "kernelspec": {
      "name": "python3",
      "display_name": "Python 3"
    },
    "language_info": {
      "name": "python"
    }
  },
  "cells": [
    {
      "cell_type": "markdown",
      "metadata": {
        "id": "view-in-github",
        "colab_type": "text"
      },
      "source": [
        "<a href=\"https://colab.research.google.com/github/harriscotler/240221-/blob/main/240221(%EC%88%98).ipynb\" target=\"_parent\"><img src=\"https://colab.research.google.com/assets/colab-badge.svg\" alt=\"Open In Colab\"/></a>"
      ]
    },
    {
      "cell_type": "code",
      "source": [
        "import requests\n",
        "import bs4\n",
        "URL = 'https://www.google.com/'\n",
        "\n",
        "response = requests.get(\"https://m.visitjeju.net/kr/knowledge/view?locate=list&menuId=DOM_200000000011003&knwld_seq=961&page=1&pageSize=10&listType=list-type1&title=&reply_yn=\")\n",
        "response.text\n",
        "\n",
        "soup = bs4.BeautifulSoup(response.text, \"html.parser\")\n",
        "comment_contents = soup.find('div', class_='comment_contents')\n",
        "if comment_contents:\n",
        "  print(comment_contents.text)\n",
        "else:\n",
        "  print(\"해당 클래스를 찾을 수 없습니다.\")"
      ],
      "metadata": {
        "colab": {
          "base_uri": "https://localhost:8080/"
        },
        "id": "KF0DLhdf2ahv",
        "outputId": "3c800f52-900e-484f-8a3b-1eb4e806cbca"
      },
      "execution_count": 32,
      "outputs": [
        {
          "output_type": "stream",
          "name": "stdout",
          "text": [
            "해당 클래스를 찾을 수 없습니다.\n"
          ]
        }
      ]
    },
    {
      "cell_type": "code",
      "source": [],
      "metadata": {
        "id": "mx1xCcGZ-Vjj"
      },
      "execution_count": null,
      "outputs": []
    }
  ]
}