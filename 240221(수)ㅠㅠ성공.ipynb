{
  "nbformat": 4,
  "nbformat_minor": 0,
  "metadata": {
    "colab": {
      "provenance": [],
      "authorship_tag": "ABX9TyPfRH939BdxleoP9OTI71/S",
      "include_colab_link": true
    },
    "kernelspec": {
      "name": "python3",
      "display_name": "Python 3"
    },
    "language_info": {
      "name": "python"
    }
  },
  "cells": [
    {
      "cell_type": "markdown",
      "metadata": {
        "id": "view-in-github",
        "colab_type": "text"
      },
      "source": [
        "<a href=\"https://colab.research.google.com/github/harriscotler/240221-/blob/main/240221(%EC%88%98)%E3%85%A0%E3%85%A0%EC%84%B1%EA%B3%B5.ipynb\" target=\"_parent\"><img src=\"https://colab.research.google.com/assets/colab-badge.svg\" alt=\"Open In Colab\"/></a>"
      ]
    },
    {
      "cell_type": "code",
      "source": [
        "import requests\n",
        "import bs4\n",
        "\n",
        "response = requests.get(\"https://m.visitjeju.net/kr/knowledge/view?locate=list&menuId=DOM_200000000011003&knwld_seq=961&page=1&pageSize=10&listType=list-type1&title=&reply_yn=\")\n",
        "response.text\n",
        "\n",
        "soup = bs4.BeautifulSoup(response.text, \"html.parser\")\n",
        "\n",
        "# BeautifulSoup 객체에서 <script> 태그를 찾음\n",
        "script_tag = soup.find(\"script\", {\"type\": \"text/javascript\"})\n",
        "\n",
        "# 정규 표현식을 사용하여 \"txt_content\"의 값을 추출\n",
        "match = re.search(r'\"txt_content\":\"(.*?)\"', script_content)\n",
        "if match:\n",
        "    comment_contents = match.group(1).replace('\\\\r\\\\n', '\\n').replace('\\\\\"', '\"')\n",
        "    print(comment_contents)\n",
        "else:\n",
        "    print(\"뭔가 잘못되었단다.\")"
      ],
      "metadata": {
        "colab": {
          "base_uri": "https://localhost:8080/"
        },
        "outputId": "c133bdc6-3c3f-47f3-bb94-83235bbf4117",
        "id": "mVva5FnTZ1a7"
      },
      "execution_count": 19,
      "outputs": [
        {
          "output_type": "stream",
          "name": "stdout",
          "text": [
            "직접 도보 이동 경로를 확인할 수 있도록 카카오맵 링크를 함께 보내드리겠습니다. \n",
            "안내소 기준이 아닌 지도상 해당 자연휴양림 기준 이동 경로로 조회되는 점을 참고해주시기 바랍니다.\n",
            "\n",
            "교래자연휴양림 출발 제주돌문화공원 버스정류장까지 도보로 약 18분 (버스 이동 총 소요시간 약 58분)\n",
            "도보이동경로 : https:\\/\\/kko.to\\/Xm3Swc8NQ2 \n",
            "\n",
            "붉은오름자연휴양림 출발 남조로사려니숲길 버스정류장까지 도보 약 26분 (버스 이동 총 소요시간 약 1시간 13분)\n",
            "도보이동경로 : https:\\/\\/kko.to\\/74kx70_kVP\n",
            "\n"
          ]
        }
      ]
    }
  ]
}